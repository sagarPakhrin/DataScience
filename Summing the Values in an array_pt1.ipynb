{
 "cells": [
  {
   "cell_type": "markdown",
   "metadata": {},
   "source": [
    "# Summing the Values in an array"
   ]
  },
  {
   "cell_type": "code",
   "execution_count": 1,
   "metadata": {},
   "outputs": [],
   "source": [
    "import numpy as np"
   ]
  },
  {
   "cell_type": "code",
   "execution_count": 2,
   "metadata": {},
   "outputs": [
    {
     "name": "stdout",
     "output_type": "stream",
     "text": [
      "[0.6734583  0.39760809 0.88594982 0.70874943 0.20252397 0.14296428\n",
      " 0.52019366 0.44011738 0.24173079 0.23193751 0.14794322 0.77371314\n",
      " 0.38883149 0.52826739 0.96525732 0.80160923 0.98208564 0.85421284\n",
      " 0.08645374 0.54055953 0.17966038 0.73241233 0.81269012 0.85893336\n",
      " 0.12223948 0.41591855 0.19911775 0.14569812 0.94505055 0.73830189\n",
      " 0.65564895 0.7076963  0.45006275 0.26929475 0.91640186 0.33733789\n",
      " 0.39803354 0.3483357  0.76204063 0.72172879 0.38641229 0.02374458\n",
      " 0.93972352 0.6022067  0.71061735 0.39050626 0.14386416 0.34044403\n",
      " 0.26924889 0.71512749 0.24761567 0.35259701 0.33379458 0.23566178\n",
      " 0.26829156 0.38596178 0.84153872 0.78143664 0.68859087 0.40668575\n",
      " 0.2010474  0.0126262  0.15823893 0.57211109 0.74903796 0.92503111\n",
      " 0.35294724 0.78472233 0.65108627 0.23347297 0.20816655 0.97864783\n",
      " 0.09231717 0.44454287 0.90195584 0.30517203 0.23072039 0.56972735\n",
      " 0.31665175 0.98913163 0.1657714  0.57631995 0.35425214 0.36066741\n",
      " 0.67257503 0.52658466 0.4705078  0.90863665 0.67677757 0.75950328\n",
      " 0.79818897 0.43699774 0.96156291 0.5655632  0.3408363  0.87684874\n",
      " 0.571623   0.66082196 0.04482261 0.66509902]\n"
     ]
    }
   ],
   "source": [
    "L = np.random.random(100)\n",
    "print(L)"
   ]
  },
  {
   "cell_type": "code",
   "execution_count": 3,
   "metadata": {},
   "outputs": [
    {
     "data": {
      "text/plain": [
       "51.36615530808722"
      ]
     },
     "execution_count": 3,
     "metadata": {},
     "output_type": "execute_result"
    }
   ],
   "source": [
    "np.sum(L)"
   ]
  },
  {
   "cell_type": "code",
   "execution_count": 4,
   "metadata": {},
   "outputs": [
    {
     "name": "stdout",
     "output_type": "stream",
     "text": [
      "71.5 ms ± 737 µs per loop (mean ± std. dev. of 7 runs, 10 loops each)\n",
      "591 µs ± 1.93 µs per loop (mean ± std. dev. of 7 runs, 1000 loops each)\n"
     ]
    }
   ],
   "source": [
    "big_array = np.random.rand(1000000)\n",
    "%timeit sum(big_array)\n",
    "%timeit np.sum(big_array)"
   ]
  },
  {
   "cell_type": "markdown",
   "metadata": {},
   "source": [
    "## Minimum and Maximum"
   ]
  },
  {
   "cell_type": "code",
   "execution_count": 5,
   "metadata": {},
   "outputs": [
    {
     "data": {
      "text/plain": [
       "(2.759878516722658e-06, 0.9999983842605179)"
      ]
     },
     "execution_count": 5,
     "metadata": {},
     "output_type": "execute_result"
    }
   ],
   "source": [
    "#python's builtin min and max\n",
    "min(big_array), max(big_array)"
   ]
  },
  {
   "cell_type": "code",
   "execution_count": 6,
   "metadata": {},
   "outputs": [
    {
     "data": {
      "text/plain": [
       "(2.759878516722658e-06, 0.9999983842605179)"
      ]
     },
     "execution_count": 6,
     "metadata": {},
     "output_type": "execute_result"
    }
   ],
   "source": [
    "#nps functions\n",
    "np.min(big_array), np.max(big_array)"
   ]
  },
  {
   "cell_type": "code",
   "execution_count": 7,
   "metadata": {},
   "outputs": [
    {
     "name": "stdout",
     "output_type": "stream",
     "text": [
      "55.6 ms ± 603 µs per loop (mean ± std. dev. of 7 runs, 10 loops each)\n",
      "311 µs ± 9.81 µs per loop (mean ± std. dev. of 7 runs, 1000 loops each)\n"
     ]
    }
   ],
   "source": [
    "#timing both functions to find the faster one\n",
    "%timeit min(big_array)\n",
    "%timeit np.min(big_array)"
   ]
  },
  {
   "cell_type": "markdown",
   "metadata": {},
   "source": [
    "###### Multidimensional aggregates"
   ]
  },
  {
   "cell_type": "code",
   "execution_count": 8,
   "metadata": {},
   "outputs": [
    {
     "name": "stdout",
     "output_type": "stream",
     "text": [
      "[[0.12393452 0.06875897 0.18429779 0.78533151]\n",
      " [0.26228935 0.53461868 0.29709292 0.90407816]\n",
      " [0.9883316  0.63660062 0.74185724 0.66123836]]\n"
     ]
    }
   ],
   "source": [
    "M = np.random.random((3,4))\n",
    "print(M)"
   ]
  },
  {
   "cell_type": "code",
   "execution_count": null,
   "metadata": {},
   "outputs": [
    {
     "data": {
      "text/plain": [
       "6.188429724436265"
      ]
     },
     "execution_count": 9,
     "metadata": {},
     "output_type": "execute_result"
    }
   ],
   "source": [
    "M.sum()"
   ]
  },
  {
   "cell_type": "code",
   "execution_count": null,
   "metadata": {},
   "outputs": [
    {
     "data": {
      "text/plain": [
       "array([1.37455547, 1.23997827, 1.22324795, 2.35064803])"
      ]
     },
     "execution_count": 10,
     "metadata": {},
     "output_type": "execute_result"
    }
   ],
   "source": [
    "M.sum(axis=0)"
   ]
  },
  {
   "cell_type": "code",
   "execution_count": null,
   "metadata": {},
   "outputs": [
    {
     "data": {
      "text/plain": [
       "array([1.16232279, 1.9980791 , 3.02802783])"
      ]
     },
     "execution_count": 11,
     "metadata": {},
     "output_type": "execute_result"
    }
   ],
   "source": [
    "M.sum(axis=1)"
   ]
  },
  {
   "cell_type": "markdown",
   "metadata": {},
   "source": [
    "## Example: What is the Average Height of US President?"
   ]
  },
  {
   "cell_type": "code",
   "execution_count": null,
   "metadata": {},
   "outputs": [],
   "source": [
    "!head - 4 data/president_heights.csv"
   ]
  },
  {
   "cell_type": "code",
   "execution_count": null,
   "metadata": {},
   "outputs": [],
   "source": [
    "import pandas as pd\n",
    "data = pd.read_csv('data/president_heignts.csv')\n",
    "print(heights)"
   ]
  },
  {
   "cell_type": "code",
   "execution_count": null,
   "metadata": {},
   "outputs": [],
   "source": []
  }
 ],
 "metadata": {
  "kernelspec": {
   "display_name": "Python 3",
   "language": "python",
   "name": "python3"
  },
  "language_info": {
   "codemirror_mode": {
    "name": "ipython",
    "version": 3
   },
   "file_extension": ".py",
   "mimetype": "text/x-python",
   "name": "python",
   "nbconvert_exporter": "python",
   "pygments_lexer": "ipython3",
   "version": "3.7.3"
  }
 },
 "nbformat": 4,
 "nbformat_minor": 2
}
